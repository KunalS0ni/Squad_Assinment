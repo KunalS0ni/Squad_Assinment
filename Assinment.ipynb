{
 "cells": [
  {
   "cell_type": "code",
   "execution_count": 91,
   "id": "60f14efc-4fd5-4ea2-9460-69d02740819f",
   "metadata": {},
   "outputs": [
    {
     "name": "stdout",
     "output_type": "stream",
     "text": [
      "Connected to the database!\n"
     ]
    }
   ],
   "source": [
    "import psycopg2\n",
    "dbname = 'kunal'\n",
    "user = 'kunal'\n",
    "password = 'kunalsoni'\n",
    "host = 'localhost'\n",
    "port = '5432' \n",
    "conn_string = f\"dbname={dbname} user={user} password={password} host={host} port={port}\"\n",
    "try:\n",
    "    connection = psycopg2.connect(conn_string)\n",
    "    print(\"Connected to the database!\")\n",
    "except Exception as e:\n",
    "    print(f\"Unable to connect to the database. Error: {e}\")\n",
    "cursor = connection.cursor()"
   ]
  },
  {
   "cell_type": "code",
   "execution_count": null,
   "id": "b5b326fa-7580-42c8-ac17-7ba05c245f2a",
   "metadata": {},
   "outputs": [],
   "source": [
    "##Top 5 Movie Titles based on Duration:"
   ]
  },
  {
   "cell_type": "code",
   "execution_count": 92,
   "id": "af1f9adf-0e83-4994-8583-4443dbfb767f",
   "metadata": {},
   "outputs": [
    {
     "name": "stdout",
     "output_type": "stream",
     "text": [
      "Top 5 Movies by Duration:\n",
      "('Gangs of Wasseypur', 320)\n",
      "('Gone with the Wind', 238)\n",
      "('Once Upon a Time in America', 229)\n",
      "('Lawrence of Arabia', 216)\n",
      "('Jodhaa Akbar', 213)\n"
     ]
    }
   ],
   "source": [
    "# Execute SQL query to get top 5 movies by duration\n",
    "query_duration = \"SELECT title, minutes FROM movies m where minutes is not null ORDER BY minutes DESC LIMIT 5;\"\n",
    "cursor.execute(query_duration)\n",
    "\n",
    "# Fetch and print the results\n",
    "results_duration = cursor.fetchall()\n",
    "print(\"Top 5 Movies by Duration:\") \n",
    "for row in results_duration:\n",
    "    print(row)"
   ]
  },
  {
   "cell_type": "code",
   "execution_count": 51,
   "id": "0a448735-cf30-4059-8213-07e04dace63c",
   "metadata": {},
   "outputs": [
    {
     "name": "stdout",
     "output_type": "stream",
     "text": [
      "\n",
      "Top 5 Movies by Year of Release:\n",
      "('Bridge of Spies', 2015)\n",
      "('Irrational Man', 2015)\n",
      "('Ted 2', 2015)\n",
      "('McFarland, USA', 2015)\n",
      "('Cobain: Montage of Heck', 2015)\n"
     ]
    }
   ],
   "source": [
    "query_year = \"SELECT title, year FROM movies where year is not null ORDER BY year DESC LIMIT 5;\"\n",
    "cursor.execute(query_year)\n",
    "\n",
    "# Fetch and print the results\n",
    "results_year = cursor.fetchall()\n",
    "print(\"\\nTop 5 Movies by Year of Release:\")\n",
    "for row in results_year:\n",
    "    print(row)"
   ]
  },
  {
   "cell_type": "code",
   "execution_count": 52,
   "id": "eec7c32d-098f-46b6-b128-5bd1ef536707",
   "metadata": {},
   "outputs": [
    {
     "name": "stdout",
     "output_type": "stream",
     "text": [
      "\n",
      "Top 5 Movies by Average Rating (min 5 ratings):\n",
      "('The Godfather: Part II', Decimal('9.80'))\n",
      "('L.A. Confidential', Decimal('9.80'))\n",
      "('The Shawshank Redemption', Decimal('9.65'))\n",
      "('The Lord of the Rings: The Return of the King', Decimal('9.60'))\n",
      "('Star Wars: Episode V - The Empire Strikes Back', Decimal('9.57'))\n"
     ]
    }
   ],
   "source": [
    "# Execute SQL query to get top 5 movies by average rating\n",
    "query_avg_rating = \"\"\"\n",
    "    SELECT m.title, round(AVG(r.rating),2) as avg_rating\n",
    "    FROM movies m\n",
    "    JOIN ratings r ON m.id = r.movie_id\n",
    "    GROUP BY m.title\n",
    "    HAVING COUNT(r.rating) >= 5\n",
    "    ORDER BY avg_rating DESC\n",
    "    LIMIT 5;\n",
    "\"\"\"\n",
    "cursor.execute(query_avg_rating)\n",
    "\n",
    "# Fetch and print the results\n",
    "results_avg_rating = cursor.fetchall()\n",
    "print(\"\\nTop 5 Movies by Average Rating (min 5 ratings):\")\n",
    "for row in results_avg_rating:\n",
    "    print(row)\n"
   ]
  },
  {
   "cell_type": "code",
   "execution_count": 54,
   "id": "de79da0b-60a7-472a-a20c-340406b85db3",
   "metadata": {},
   "outputs": [
    {
     "name": "stdout",
     "output_type": "stream",
     "text": [
      "\n",
      "Top 5 Movies by Number of Ratings:\n",
      "('The Wolf of Wall Street', 69)\n",
      "('Gravity', 64)\n",
      "('Man of Steel', 60)\n",
      "('Now You See Me', 59)\n",
      "('Interstellar', 58)\n"
     ]
    }
   ],
   "source": [
    "# Execute SQL query to get top 5 movies by number of ratings\n",
    "query_num_ratings = \"\"\"\n",
    "    SELECT m.title, COUNT(r.rating) as num_ratings\n",
    "    FROM movies m\n",
    "    JOIN ratings r ON m.id = r.movie_id\n",
    "    GROUP BY m.title\n",
    "    ORDER BY num_ratings DESC\n",
    "    LIMIT 5;\n",
    "\"\"\"\n",
    "cursor.execute(query_num_ratings)\n",
    "\n",
    "# Fetch and print the results\n",
    "results_num_ratings = cursor.fetchall()\n",
    "print(\"\\nTop 5 Movies by Number of Ratings:\")\n",
    "for row in results_num_ratings:\n",
    "    print(row)"
   ]
  },
  {
   "cell_type": "code",
   "execution_count": 55,
   "id": "90b2813d-d5a1-4dbf-9377-fa834ee8fbb4",
   "metadata": {},
   "outputs": [
    {
     "name": "stdout",
     "output_type": "stream",
     "text": [
      "Number of Unique Raters: 1048\n"
     ]
    }
   ],
   "source": [
    "# Execute SQL query to get the count of unique rater IDs\n",
    "query_unique_raters = \"SELECT COUNT(DISTINCT rater_id) FROM ratings r;\"\n",
    "cursor.execute(query_unique_raters)\n",
    "\n",
    "# Fetch the result\n",
    "unique_raters_count = cursor.fetchone()[0]\n",
    "\n",
    "# Print the result\n",
    "print(f\"Number of Unique Raters: {unique_raters_count}\")\n"
   ]
  },
  {
   "cell_type": "code",
   "execution_count": 56,
   "id": "502d985c-41e2-4701-bc00-b74980f05771",
   "metadata": {},
   "outputs": [
    {
     "name": "stdout",
     "output_type": "stream",
     "text": [
      "Top 5 Rater IDs by Most Movies Rated:\n",
      "(735, 314)\n",
      "(769, 209)\n",
      "(512, 188)\n",
      "(800, 186)\n",
      "(82, 159)\n"
     ]
    }
   ],
   "source": [
    "# Execute SQL query to get top 5 raters by most movies rated\n",
    "query_most_movies_rated = \"\"\"\n",
    "    SELECT rater_id, COUNT(movie_id) as movies_rated\n",
    "    FROM ratings\n",
    "    GROUP BY rater_id\n",
    "    ORDER BY movies_rated DESC\n",
    "    LIMIT 5;\n",
    "\"\"\"\n",
    "cursor.execute(query_most_movies_rated)\n",
    "\n",
    "# Fetch and print the results\n",
    "results_most_movies_rated = cursor.fetchall()\n",
    "print(\"Top 5 Rater IDs by Most Movies Rated:\")\n",
    "for row in results_most_movies_rated:\n",
    "    print(row)"
   ]
  },
  {
   "cell_type": "code",
   "execution_count": 61,
   "id": "6694d7c3-57e3-4a87-bed8-88fe0c987ff9",
   "metadata": {},
   "outputs": [
    {
     "name": "stdout",
     "output_type": "stream",
     "text": [
      "\n",
      "Top 5 Rater IDs by Highest Average Rating (min 5 ratings):\n",
      "(256, Decimal('10.00'))\n",
      "(231, Decimal('10.00'))\n",
      "(662, Decimal('10.00'))\n",
      "(206, Decimal('10.00'))\n",
      "(146, Decimal('10.00'))\n"
     ]
    }
   ],
   "source": [
    "# Execute SQL query to get top 5 raters by highest average rating (min 5 ratings)\n",
    "query_highest_avg_rating = \"\"\"\n",
    "    SELECT rater_id, round(AVG(rating),2) as avg_rating\n",
    "    FROM ratings\n",
    "    GROUP BY rater_id\n",
    "    HAVING COUNT(rating) >= 5\n",
    "    ORDER BY avg_rating DESC\n",
    "    LIMIT 5;\n",
    "\"\"\"\n",
    "cursor.execute(query_highest_avg_rating)\n",
    "\n",
    "# Fetch and print the results\n",
    "results_highest_avg_rating = cursor.fetchall()\n",
    "print(\"\\nTop 5 Rater IDs by Highest Average Rating (min 5 ratings):\")\n",
    "for row in results_highest_avg_rating:\n",
    "    print(row)\n"
   ]
  },
  {
   "cell_type": "code",
   "execution_count": 94,
   "id": "67319d05-d1a5-463c-a789-f9aec6ad8479",
   "metadata": {},
   "outputs": [
    {
     "name": "stdout",
     "output_type": "stream",
     "text": [
      "Top Rated Movie by Michael Bay:\n",
      "('Armageddon', Decimal('10.00'))\n",
      "\n",
      "Top Rated Comedy:\n",
      "('A Very Harold & Kumar 3D Christmas', Decimal('10.00'))\n",
      "\n",
      "Top Rated Movie in 2013:\n",
      "('Hawking', Decimal('10.00'))\n",
      "\n",
      "Top Rated Movie in India:\n",
      "('PK', Decimal('9.30'))\n"
     ]
    }
   ],
   "source": [
    "# Execute SQL query to get the top-rated movies by Michael Bay\n",
    "query_top_rated_director = \"\"\"\n",
    "    SELECT m.title, round(AVG(r.rating),2) as avg_rating\n",
    "    FROM movies m\n",
    "    JOIN ratings r ON m.id = r.movie_id\n",
    "    WHERE m.director = 'Michael Bay'\n",
    "    GROUP BY m.title\n",
    "    ORDER BY avg_rating DESC\n",
    "    LIMIT 1;\n",
    "\"\"\"\n",
    "cursor.execute(query_top_rated_director)\n",
    "\n",
    "# Fetch and print the result\n",
    "result_top_rated_director = cursor.fetchone()\n",
    "print(\"Top Rated Movie by Michael Bay:\")\n",
    "print(result_top_rated_director)\n",
    "\n",
    "# Execute SQL query to get the top-rated comedy movie in the year 2013\n",
    "query_top_rated_comedy = \"\"\"\n",
    "    SELECT m.title, round(AVG(r.rating),2) as avg_rating\n",
    "    FROM movies m\n",
    "    JOIN ratings r ON m.id = r.movie_id\n",
    "    WHERE lower(m.genre) = 'comedy' \n",
    "    GROUP BY m.title\n",
    "    ORDER BY avg_rating DESC\n",
    "    LIMIT 1;\n",
    "\"\"\"\n",
    "cursor.execute(query_top_rated_comedy)\n",
    "\n",
    "# Fetch and print the result\n",
    "result_top_rated_comedy = cursor.fetchone()\n",
    "print(\"\\nTop Rated Comedy:\")\n",
    "print(result_top_rated_comedy)\n",
    "\n",
    "# Execute SQL query to get the top-rated comedy movie in the year 2013\n",
    "query_top_rated_2013 = \"\"\"\n",
    "    SELECT m.title, round(AVG(r.rating),2) as avg_rating\n",
    "    FROM movies m\n",
    "    JOIN ratings r ON m.id = r.movie_id\n",
    "    WHERE  m.year = 2013\n",
    "    GROUP BY m.title\n",
    "    ORDER BY avg_rating DESC\n",
    "    LIMIT 1;\n",
    "\"\"\"\n",
    "cursor.execute(query_top_rated_2013)\n",
    "\n",
    "# Fetch and print the result\n",
    "result_top_rated_2013 = cursor.fetchone()\n",
    "print(\"\\nTop Rated Movie in 2013:\")\n",
    "print(result_top_rated_2013)\n",
    "\n",
    "# Execute SQL query to get the top-rated movie in India\n",
    "query_top_rated_in_india = \"\"\"\n",
    "    SELECT m.title, round(AVG(r.rating),2) as avg_rating\n",
    "    FROM movies m\n",
    "    JOIN ratings r ON m.id = r.movie_id\n",
    "    WHERE lower(m.country) = 'india'\n",
    "    GROUP BY m.title\n",
    "    HAVING COUNT(r.rating) >= 5\n",
    "    ORDER BY avg_rating DESC\n",
    "    LIMIT 1;\n",
    "\"\"\"\n",
    "cursor.execute(query_top_rated_in_india)\n",
    "\n",
    "# Fetch and print the result\n",
    "result_top_rated_in_india = cursor.fetchone()\n",
    "print(\"\\nTop Rated Movie in India:\")\n",
    "print(result_top_rated_in_india)\n",
    "\n"
   ]
  },
  {
   "cell_type": "code",
   "execution_count": 90,
   "id": "25ee6575-2e06-4af6-9557-b36092d6f4e3",
   "metadata": {},
   "outputs": [
    {
     "name": "stdout",
     "output_type": "stream",
     "text": [
      "Favorite Movie Genre for Rater ID 1040: Action, Adventure, Sci-Fi (Rated 11 times)\n"
     ]
    }
   ],
   "source": [
    "# Execute SQL query to get the favorite movie genre for rater ID 1040\n",
    "query_favorite_genre = \"\"\"\n",
    "    SELECT m.genre, COUNT(*) as genre_count\n",
    "    FROM movies m\n",
    "    JOIN ratings r ON m.id = r.movie_id\n",
    "    WHERE r.rater_id = 1040\n",
    "    GROUP BY m.genre\n",
    "    ORDER BY genre_count DESC\n",
    "    LIMIT 1;\n",
    "\"\"\"\n",
    "cursor.execute(query_favorite_genre)\n",
    "\n",
    "# Fetch and print the result\n",
    "result_favorite_genre = cursor.fetchone()\n",
    "if result_favorite_genre:\n",
    "    favorite_genre, genre_count = result_favorite_genre\n",
    "    print(f\"Favorite Movie Genre for Rater ID 1040: {favorite_genre} (Rated {genre_count} times)\")\n",
    "else:\n",
    "    print(\"Rater ID 1040 has not rated any movies.\")"
   ]
  },
  {
   "cell_type": "code",
   "execution_count": 85,
   "id": "bed6e8df-96a3-48ce-9e0d-a30ff5f2e320",
   "metadata": {},
   "outputs": [
    {
     "name": "stdout",
     "output_type": "stream",
     "text": [
      "Highest Average Rating for a Movie Genre by Rater ID 1040:\n",
      "Genre: Action, Adventure, Sci-Fi, Average Rating: 8.45\n"
     ]
    }
   ],
   "source": [
    "# Execute SQL query to get the highest average rating for a movie genre by Rater ID 1040\n",
    "query_highest_avg_rating = \"\"\"\n",
    "    SELECT m.genre, AVG(r.rating) as avg_rating\n",
    "    FROM movies m\n",
    "    JOIN ratings r ON m.id = r.movie_id\n",
    "    WHERE r.rater_id = 1040\n",
    "    GROUP BY m.genre\n",
    "    HAVING COUNT(r.rating) >= 5\n",
    "    ORDER BY avg_rating DESC\n",
    "    LIMIT 1;\n",
    "\"\"\"\n",
    "cursor.execute(query_highest_avg_rating)\n",
    "\n",
    "# Fetch and print the result\n",
    "result_highest_avg_rating = cursor.fetchone()\n",
    "if result_highest_avg_rating:\n",
    "    genre, highest_avg_rating = result_highest_avg_rating\n",
    "    print(f\"Highest Average Rating for a Movie Genre by Rater ID 1040:\")\n",
    "    print(f\"Genre: {genre}, Average Rating: {highest_avg_rating:.2f}\")\n",
    "else:\n",
    "    print(\"Rater ID 1040 has not rated enough movies in any genre.\")\n"
   ]
  },
  {
   "cell_type": "code",
   "execution_count": 86,
   "id": "5e16aa20-7e7f-4f3b-ba4c-a44e53bc6f95",
   "metadata": {},
   "outputs": [
    {
     "name": "stdout",
     "output_type": "stream",
     "text": [
      "No data found for the specified criteria.\n"
     ]
    }
   ],
   "source": [
    "# Execute SQL query to get the year with the second-highest number of action movies\n",
    "query_second_highest_action_movies = \"\"\"\n",
    "    SELECT m.year, COUNT(*) as num_action_movies\n",
    "    FROM movies m\n",
    "    JOIN ratings r ON m.id = r.movie_id\n",
    "    WHERE m.genre = 'Action' AND m.country = 'USA' AND m.minutes < 120\n",
    "    GROUP BY m.year\n",
    "    HAVING AVG(r.rating) >= 6.5\n",
    "    ORDER BY num_action_movies DESC\n",
    "    OFFSET 1\n",
    "    LIMIT 1;\n",
    "\"\"\"\n",
    "cursor.execute(query_second_highest_action_movies)\n",
    "\n",
    "# Fetch and print the result\n",
    "result_second_highest_action_movies = cursor.fetchone()\n",
    "if result_second_highest_action_movies:\n",
    "    year, num_action_movies = result_second_highest_action_movies\n",
    "    print(f\"Year with Second-Highest Number of Action Movies:\")\n",
    "    print(f\"Year: {year}, Number of Action Movies: {num_action_movies}\")\n",
    "else:\n",
    "    print(\"No data found for the specified criteria.\")"
   ]
  },
  {
   "cell_type": "code",
   "execution_count": 87,
   "id": "a2cd9cbe-3da1-4737-ac36-4c6b6a721f3d",
   "metadata": {},
   "outputs": [
    {
     "name": "stdout",
     "output_type": "stream",
     "text": [
      "Number of Movies with High Ratings (at least five reviews with a rating of 7 or higher): 1\n"
     ]
    }
   ],
   "source": [
    "# Execute SQL query to count movies with high ratings\n",
    "query_high_rated_movies_count = \"\"\"\n",
    "    SELECT COUNT(DISTINCT m.id)\n",
    "    FROM movies m\n",
    "    JOIN ratings r ON m.id = r.movie_id\n",
    "    WHERE r.rating >= 7\n",
    "    GROUP BY m.id\n",
    "    HAVING COUNT(r.rating) >= 5;\n",
    "\"\"\"\n",
    "cursor.execute(query_high_rated_movies_count)\n",
    "\n",
    "# Fetch and print the result\n",
    "result_high_rated_movies_count = cursor.fetchone()\n",
    "if result_high_rated_movies_count:\n",
    "    high_rated_movies_count = result_high_rated_movies_count[0]\n",
    "    print(f\"Number of Movies with High Ratings (at least five reviews with a rating of 7 or higher): {high_rated_movies_count}\")\n",
    "else:\n",
    "    print(\"No movies found that meet the specified criteria.\")\n"
   ]
  },
  {
   "cell_type": "markdown",
   "id": "9f8636c7-1775-469e-9fcd-908c947c3a95",
   "metadata": {},
   "source": [
    "Top 5 Movies by Duration:\n",
    "'Gangs of Wasseypur' (320 minutes)\n",
    "'Gone with the Wind' (238 minutes)\n",
    "'Once Upon a Time in America' (229 minutes)\n",
    "'Lawrence of Arabia' (216 minutes)\n",
    "'Jodhaa Akbar' (213 minutes)\n",
    "\n",
    "Top 5 Movies by Year of Release:\n",
    "'Bridge of Spies' (2015)\n",
    "'Irrational Man' (2015)\n",
    "'Ted 2' (2015)\n",
    "'McFarland, USA' (2015)\n",
    "'Cobain: Montage of Heck' (2015)\n",
    "\n",
    "Top 5 Movies by Average Rating (min 5 ratings):\n",
    "'The Godfather: Part II' (9.80)\n",
    "'L.A. Confidential' (9.80)\n",
    "'The Shawshank Redemption' (9.65)\n",
    "'The Lord of the Rings: The Return of the King' (9.60)\n",
    "'Star Wars: Episode V - The Empire Strikes Back' (9.57)\n",
    "\n",
    "Top 5 Movies by Number of Ratings:\n",
    "'The Wolf of Wall Street' (69)\n",
    "'Gravity' (64)\n",
    "'Man of Steel' (60)\n",
    "'Now You See Me' (59)\n",
    "'Interstellar' (58)\n",
    "\n",
    "Number of Unique Raters:\n",
    "1048\n",
    "\n",
    "Top 5 Rater IDs by Most Movies Rated:\n",
    "(735, 314)\n",
    "(769, 209)\n",
    "(512, 188)\n",
    "(800, 186)\n",
    "(82, 159)\n",
    "\n",
    "Top 5 Rater IDs by Highest Average Rating (min 5 ratings):\n",
    "(256, 10.00)\n",
    "(231, 10.00)\n",
    "(662, 10.00)\n",
    "(206, 10.00)\n",
    "(146, 10.00)\n",
    "\n",
    "Top Rated Movie by Michael Bay:\n",
    "'Armageddon' (10.00)\n",
    "\n",
    "Top Rated Comedy:\n",
    "'A Very Harold & Kumar 3D Christmas' (10.00)\n",
    "\n",
    "Top Rated Movie in 2013:\n",
    "'Hawking' (10.00)\n",
    "\n",
    "Top Rated Movie in India:\n",
    "'PK' (9.30)\n",
    "\n",
    "Favorite Movie Genre for Rater ID 1040:\n",
    "Action, Adventure, Sci-Fi (Rated 11 times)\n",
    "\n",
    "Highest Average Rating for a Movie Genre by Rater ID 1040:\n",
    "Genre: Action, Adventure, Sci-Fi, Average Rating: 8.45\n",
    "                      \n",
    "Number of Movies with High Ratings (at least five reviews with a rating of 7 or higher):\n",
    "1\n",
    "                      \n",
    "Insights:\n",
    "\n",
    "The movie 'Gangs of Wasseypur' is the longest among the top 5 movies by duration, lasting 320 minutes.\n",
    "\n",
    "The year 2015 had a significant number of top movies, including 'Bridge of Spies' and 'Irrational Man.'\n",
    "\n",
    "Movies like 'The Godfather: Part II' and 'L.A. Confidential' stand out with high average ratings.\n",
    "\n",
    "Raters with IDs 735 and 769 have rated the most movies, while raters like 256 and 231 have consistently given perfect ratings.\n",
    "\n",
    "Michael Bay's 'Armageddon' and the comedy 'A Very Harold & Kumar 3D Christmas' received perfect ratings.\n",
    "\n",
    "The movie 'Hawking' in 2013 and 'PK' in India were highly rated.\n",
    "\n",
    "Rater ID 1040 has a preference for the genre of Action, Adventure, Sci-Fi, rating it the most.\n",
    "\n",
    "The highest average rating for a movie genre by Rater ID 1040 is for Action, Adventure, Sci-Fi, with an average rating of 8.45.\n",
    "\n",
    "Only one movie has received high ratings (at least five reviews with a rating of 7 or higher)."
   ]
  }
 ],
 "metadata": {
  "kernelspec": {
   "display_name": "Python 3 (ipykernel)",
   "language": "python",
   "name": "python3"
  },
  "language_info": {
   "codemirror_mode": {
    "name": "ipython",
    "version": 3
   },
   "file_extension": ".py",
   "mimetype": "text/x-python",
   "name": "python",
   "nbconvert_exporter": "python",
   "pygments_lexer": "ipython3",
   "version": "3.11.4"
  }
 },
 "nbformat": 4,
 "nbformat_minor": 5
}
